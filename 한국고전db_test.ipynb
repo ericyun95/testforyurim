{
  "nbformat": 4,
  "nbformat_minor": 0,
  "metadata": {
    "colab": {
      "provenance": [],
      "authorship_tag": "ABX9TyNEVZHMMHDOqFUc6XSdeUsx",
      "include_colab_link": true
    },
    "kernelspec": {
      "name": "python3",
      "display_name": "Python 3"
    },
    "language_info": {
      "name": "python"
    }
  },
  "cells": [
    {
      "cell_type": "markdown",
      "metadata": {
        "id": "view-in-github",
        "colab_type": "text"
      },
      "source": [
        "<a href=\"https://colab.research.google.com/github/ericyun95/testforyurim/blob/main/%ED%95%9C%EA%B5%AD%EA%B3%A0%EC%A0%84db_test.ipynb\" target=\"_parent\"><img src=\"https://colab.research.google.com/assets/colab-badge.svg\" alt=\"Open In Colab\"/></a>"
      ]
    },
    {
      "cell_type": "code",
      "source": [
        "!pip install torch torchvision torchaudio"
      ],
      "metadata": {
        "colab": {
          "base_uri": "https://localhost:8080/"
        },
        "collapsed": true,
        "id": "_U1_tsn4yP4_",
        "outputId": "6bb833b0-9762-43ac-b249-743448c32a72"
      },
      "execution_count": 3,
      "outputs": [
        {
          "output_type": "stream",
          "name": "stdout",
          "text": [
            "Requirement already satisfied: torch in /usr/local/lib/python3.10/dist-packages (2.3.0+cu121)\n",
            "Requirement already satisfied: torchvision in /usr/local/lib/python3.10/dist-packages (0.18.0+cu121)\n",
            "Requirement already satisfied: torchaudio in /usr/local/lib/python3.10/dist-packages (2.3.0+cu121)\n",
            "Requirement already satisfied: filelock in /usr/local/lib/python3.10/dist-packages (from torch) (3.15.4)\n",
            "Requirement already satisfied: typing-extensions>=4.8.0 in /usr/local/lib/python3.10/dist-packages (from torch) (4.12.2)\n",
            "Requirement already satisfied: sympy in /usr/local/lib/python3.10/dist-packages (from torch) (1.13.0)\n",
            "Requirement already satisfied: networkx in /usr/local/lib/python3.10/dist-packages (from torch) (3.3)\n",
            "Requirement already satisfied: jinja2 in /usr/local/lib/python3.10/dist-packages (from torch) (3.1.4)\n",
            "Requirement already satisfied: fsspec in /usr/local/lib/python3.10/dist-packages (from torch) (2023.6.0)\n",
            "Collecting nvidia-cuda-nvrtc-cu12==12.1.105 (from torch)\n",
            "  Using cached nvidia_cuda_nvrtc_cu12-12.1.105-py3-none-manylinux1_x86_64.whl (23.7 MB)\n",
            "Collecting nvidia-cuda-runtime-cu12==12.1.105 (from torch)\n",
            "  Using cached nvidia_cuda_runtime_cu12-12.1.105-py3-none-manylinux1_x86_64.whl (823 kB)\n",
            "Collecting nvidia-cuda-cupti-cu12==12.1.105 (from torch)\n",
            "  Using cached nvidia_cuda_cupti_cu12-12.1.105-py3-none-manylinux1_x86_64.whl (14.1 MB)\n",
            "Collecting nvidia-cudnn-cu12==8.9.2.26 (from torch)\n",
            "  Using cached nvidia_cudnn_cu12-8.9.2.26-py3-none-manylinux1_x86_64.whl (731.7 MB)\n",
            "Collecting nvidia-cublas-cu12==12.1.3.1 (from torch)\n",
            "  Using cached nvidia_cublas_cu12-12.1.3.1-py3-none-manylinux1_x86_64.whl (410.6 MB)\n",
            "Collecting nvidia-cufft-cu12==11.0.2.54 (from torch)\n",
            "  Using cached nvidia_cufft_cu12-11.0.2.54-py3-none-manylinux1_x86_64.whl (121.6 MB)\n",
            "Collecting nvidia-curand-cu12==10.3.2.106 (from torch)\n",
            "  Using cached nvidia_curand_cu12-10.3.2.106-py3-none-manylinux1_x86_64.whl (56.5 MB)\n",
            "Collecting nvidia-cusolver-cu12==11.4.5.107 (from torch)\n",
            "  Using cached nvidia_cusolver_cu12-11.4.5.107-py3-none-manylinux1_x86_64.whl (124.2 MB)\n",
            "Collecting nvidia-cusparse-cu12==12.1.0.106 (from torch)\n",
            "  Using cached nvidia_cusparse_cu12-12.1.0.106-py3-none-manylinux1_x86_64.whl (196.0 MB)\n",
            "Collecting nvidia-nccl-cu12==2.20.5 (from torch)\n",
            "  Using cached nvidia_nccl_cu12-2.20.5-py3-none-manylinux2014_x86_64.whl (176.2 MB)\n",
            "Collecting nvidia-nvtx-cu12==12.1.105 (from torch)\n",
            "  Using cached nvidia_nvtx_cu12-12.1.105-py3-none-manylinux1_x86_64.whl (99 kB)\n",
            "Requirement already satisfied: triton==2.3.0 in /usr/local/lib/python3.10/dist-packages (from torch) (2.3.0)\n",
            "Collecting nvidia-nvjitlink-cu12 (from nvidia-cusolver-cu12==11.4.5.107->torch)\n",
            "  Downloading nvidia_nvjitlink_cu12-12.5.82-py3-none-manylinux2014_x86_64.whl (21.3 MB)\n",
            "\u001b[2K     \u001b[90m━━━━━━━━━━━━━━━━━━━━━━━━━━━━━━━━━━━━━━━━\u001b[0m \u001b[32m21.3/21.3 MB\u001b[0m \u001b[31m45.2 MB/s\u001b[0m eta \u001b[36m0:00:00\u001b[0m\n",
            "\u001b[?25hRequirement already satisfied: numpy in /usr/local/lib/python3.10/dist-packages (from torchvision) (1.25.2)\n",
            "Requirement already satisfied: pillow!=8.3.*,>=5.3.0 in /usr/local/lib/python3.10/dist-packages (from torchvision) (9.4.0)\n",
            "Requirement already satisfied: MarkupSafe>=2.0 in /usr/local/lib/python3.10/dist-packages (from jinja2->torch) (2.1.5)\n",
            "Requirement already satisfied: mpmath<1.4,>=1.1.0 in /usr/local/lib/python3.10/dist-packages (from sympy->torch) (1.3.0)\n",
            "Installing collected packages: nvidia-nvtx-cu12, nvidia-nvjitlink-cu12, nvidia-nccl-cu12, nvidia-curand-cu12, nvidia-cufft-cu12, nvidia-cuda-runtime-cu12, nvidia-cuda-nvrtc-cu12, nvidia-cuda-cupti-cu12, nvidia-cublas-cu12, nvidia-cusparse-cu12, nvidia-cudnn-cu12, nvidia-cusolver-cu12\n",
            "Successfully installed nvidia-cublas-cu12-12.1.3.1 nvidia-cuda-cupti-cu12-12.1.105 nvidia-cuda-nvrtc-cu12-12.1.105 nvidia-cuda-runtime-cu12-12.1.105 nvidia-cudnn-cu12-8.9.2.26 nvidia-cufft-cu12-11.0.2.54 nvidia-curand-cu12-10.3.2.106 nvidia-cusolver-cu12-11.4.5.107 nvidia-cusparse-cu12-12.1.0.106 nvidia-nccl-cu12-2.20.5 nvidia-nvjitlink-cu12-12.5.82 nvidia-nvtx-cu12-12.1.105\n"
          ]
        }
      ]
    },
    {
      "cell_type": "code",
      "source": [
        "!pip install transformers"
      ],
      "metadata": {
        "colab": {
          "base_uri": "https://localhost:8080/"
        },
        "collapsed": true,
        "id": "zKRYTNHSyVpv",
        "outputId": "7631e7a3-cc4d-4e37-e90b-317352145ed7"
      },
      "execution_count": 4,
      "outputs": [
        {
          "output_type": "stream",
          "name": "stdout",
          "text": [
            "Requirement already satisfied: transformers in /usr/local/lib/python3.10/dist-packages (4.41.2)\n",
            "Requirement already satisfied: filelock in /usr/local/lib/python3.10/dist-packages (from transformers) (3.15.4)\n",
            "Requirement already satisfied: huggingface-hub<1.0,>=0.23.0 in /usr/local/lib/python3.10/dist-packages (from transformers) (0.23.4)\n",
            "Requirement already satisfied: numpy>=1.17 in /usr/local/lib/python3.10/dist-packages (from transformers) (1.25.2)\n",
            "Requirement already satisfied: packaging>=20.0 in /usr/local/lib/python3.10/dist-packages (from transformers) (24.1)\n",
            "Requirement already satisfied: pyyaml>=5.1 in /usr/local/lib/python3.10/dist-packages (from transformers) (6.0.1)\n",
            "Requirement already satisfied: regex!=2019.12.17 in /usr/local/lib/python3.10/dist-packages (from transformers) (2024.5.15)\n",
            "Requirement already satisfied: requests in /usr/local/lib/python3.10/dist-packages (from transformers) (2.31.0)\n",
            "Requirement already satisfied: tokenizers<0.20,>=0.19 in /usr/local/lib/python3.10/dist-packages (from transformers) (0.19.1)\n",
            "Requirement already satisfied: safetensors>=0.4.1 in /usr/local/lib/python3.10/dist-packages (from transformers) (0.4.3)\n",
            "Requirement already satisfied: tqdm>=4.27 in /usr/local/lib/python3.10/dist-packages (from transformers) (4.66.4)\n",
            "Requirement already satisfied: fsspec>=2023.5.0 in /usr/local/lib/python3.10/dist-packages (from huggingface-hub<1.0,>=0.23.0->transformers) (2023.6.0)\n",
            "Requirement already satisfied: typing-extensions>=3.7.4.3 in /usr/local/lib/python3.10/dist-packages (from huggingface-hub<1.0,>=0.23.0->transformers) (4.12.2)\n",
            "Requirement already satisfied: charset-normalizer<4,>=2 in /usr/local/lib/python3.10/dist-packages (from requests->transformers) (3.3.2)\n",
            "Requirement already satisfied: idna<4,>=2.5 in /usr/local/lib/python3.10/dist-packages (from requests->transformers) (3.7)\n",
            "Requirement already satisfied: urllib3<3,>=1.21.1 in /usr/local/lib/python3.10/dist-packages (from requests->transformers) (2.0.7)\n",
            "Requirement already satisfied: certifi>=2017.4.17 in /usr/local/lib/python3.10/dist-packages (from requests->transformers) (2024.7.4)\n"
          ]
        }
      ]
    },
    {
      "cell_type": "code",
      "source": [
        "import torch\n",
        "import torch.nn as nn\n",
        "import torch.optim as optim\n",
        "from transformers import GPT2Tokenizer, GPT2LMHeadModel"
      ],
      "metadata": {
        "id": "5OBWi_9sya6G"
      },
      "execution_count": 5,
      "outputs": []
    },
    {
      "cell_type": "markdown",
      "source": [
        "한국고전문학db 가져오기 테스트"
      ],
      "metadata": {
        "id": "Zvwxw2Xp0BQw"
      }
    },
    {
      "cell_type": "code",
      "source": [
        "import requests"
      ],
      "metadata": {
        "id": "JMomqRBwzMI0"
      },
      "execution_count": 6,
      "outputs": []
    },
    {
      "cell_type": "code",
      "source": [
        "url = f'http://db.itkc.or.kr/openapi/search'"
      ],
      "metadata": {
        "id": "l_cVeiOg0Arg"
      },
      "execution_count": 7,
      "outputs": []
    },
    {
      "cell_type": "code",
      "source": [
        "response = requests.get(url)"
      ],
      "metadata": {
        "id": "grXZEP6j0Ul9"
      },
      "execution_count": 9,
      "outputs": []
    },
    {
      "cell_type": "code",
      "source": [
        "response"
      ],
      "metadata": {
        "colab": {
          "base_uri": "https://localhost:8080/"
        },
        "id": "oVyL8ou-0fEA",
        "outputId": "52fe991b-e9e8-4d62-d6ad-de2b6fb60c8d"
      },
      "execution_count": 10,
      "outputs": [
        {
          "output_type": "execute_result",
          "data": {
            "text/plain": [
              "<Response [200]>"
            ]
          },
          "metadata": {},
          "execution_count": 10
        }
      ]
    },
    {
      "cell_type": "code",
      "source": [
        "url = 'http://db.itkc.or.kr/openapi/search?secId=JT_BD&keyword=&start=0&rows=10'"
      ],
      "metadata": {
        "id": "2OVCK8m00pIV"
      },
      "execution_count": 59,
      "outputs": []
    },
    {
      "cell_type": "code",
      "source": [
        "response = requests.get(url)"
      ],
      "metadata": {
        "id": "exgpcTjZ1GXT"
      },
      "execution_count": 60,
      "outputs": []
    },
    {
      "cell_type": "code",
      "source": [
        "response"
      ],
      "metadata": {
        "colab": {
          "base_uri": "https://localhost:8080/"
        },
        "id": "aixgpoTi1JaP",
        "outputId": "4bc27447-523e-402e-9af5-9660e5d7fe2e"
      },
      "execution_count": 61,
      "outputs": [
        {
          "output_type": "execute_result",
          "data": {
            "text/plain": [
              "<Response [200]>"
            ]
          },
          "metadata": {},
          "execution_count": 61
        }
      ]
    },
    {
      "cell_type": "code",
      "source": [
        "response.status_code"
      ],
      "metadata": {
        "colab": {
          "base_uri": "https://localhost:8080/"
        },
        "id": "gSK-gsH21SUU",
        "outputId": "485a61fb-c311-4031-82e1-17b4c73088c0"
      },
      "execution_count": 29,
      "outputs": [
        {
          "output_type": "execute_result",
          "data": {
            "text/plain": [
              "200"
            ]
          },
          "metadata": {},
          "execution_count": 29
        }
      ]
    },
    {
      "cell_type": "code",
      "source": [
        "import xml.etree.ElementTree as ET"
      ],
      "metadata": {
        "id": "xsbhmsxf13oG"
      },
      "execution_count": 30,
      "outputs": []
    },
    {
      "cell_type": "code",
      "source": [
        "root = ET.fromstring(response.content)"
      ],
      "metadata": {
        "id": "jf0QHeH12zOP"
      },
      "execution_count": 31,
      "outputs": []
    },
    {
      "cell_type": "code",
      "source": [
        "root"
      ],
      "metadata": {
        "colab": {
          "base_uri": "https://localhost:8080/"
        },
        "id": "G2a2zPtX27tw",
        "outputId": "3de68140-332f-4c2d-87e4-3eb435647f45"
      },
      "execution_count": 47,
      "outputs": [
        {
          "output_type": "execute_result",
          "data": {
            "text/plain": [
              "<Element 'response' at 0x7bc2192d6c50>"
            ]
          },
          "metadata": {},
          "execution_count": 47
        }
      ]
    },
    {
      "cell_type": "code",
      "source": [
        "x = ET.dump(root)"
      ],
      "metadata": {
        "colab": {
          "base_uri": "https://localhost:8080/"
        },
        "id": "9MoDbAt-28si",
        "outputId": "2c422eea-8857-4c6b-cf59-3515fa51f316"
      },
      "execution_count": 36,
      "outputs": [
        {
          "output_type": "stream",
          "name": "stdout",
          "text": [
            "<response>\n",
            "<header>\n",
            "\t<field name=\"secId\">JT_BD</field>\n",
            "\t<field name=\"keyword\" />\n",
            "\t<field name=\"start\">0</field>\n",
            "\t<field name=\"rows\">10</field>\n",
            "\t<field name=\"totalCount\">361850</field>\n",
            "</header>\n",
            "<result>\n",
            "<doc>\n",
            "\t<field name=\"서지ID\">ITKC_JT_A0</field>\n",
            "\t<field name=\"DCI_s\">ITKC_JT_A0_000_000_000_00010_2005_001_XML</field>\n",
            "\t<field name=\"저자\">|</field>\n",
            "\t<field name=\"기사명\">태조 이성계 선대의 가계. 목조 이안사가 전주에서 삼척ㆍ의주를 거쳐 알동에 정착하다</field>\n",
            "\t<field name=\"간행기간\">1972</field>\n",
            "\t<field name=\"서명\">태조실록(太祖實錄)</field>\n",
            "\t<field name=\"간행처\">세종대왕기념사업회</field>\n",
            "\t<field name=\"아이템ID\">ITKC_JT</field>\n",
            "\t<field name=\"자료구분\">최종정보</field>\n",
            "\t<field name=\"주제분류\">인물(人物) 역사(歷史) 왕실(王室) 외교-원(元)</field>\n",
            "\t<field name=\"검색필드\">태조 강헌 지인 계운 성문 신무 대왕(太祖康獻至仁啓運聖文神武大王)의 성은 이씨(李氏)요, 휘(諱)는 단(旦)이요, 자(字)는 군진(君晉)이다. 왕위에 오르기 전의 휘는 성계(成桂)이고, 호(號)는 송헌(松軒)인데, 전주(全州)의 대성</field>\n",
            "\t<field name=\"자료ID\">ITKC_JT_A0_000_000_000_00010</field>\n",
            "\t<field name=\"역자\">이재호</field>\n",
            "\t<field name=\"사부분류\">사부(史部)-편년류(編年類)</field>\n",
            "\t<field name=\"간행년\">1972</field>\n",
            "</doc>\n",
            "<doc>\n",
            "\t<field name=\"서지ID\">ITKC_JT_A0</field>\n",
            "\t<field name=\"DCI_s\">ITKC_JT_A0_000_000_000_00020_2005_001_XML</field>\n",
            "\t<field name=\"저자\">|</field>\n",
            "\t<field name=\"기사명\">목조 이안사가 알동 천호소의 수(首)천호로서 다루가치를 겸하다</field>\n",
            "\t<field name=\"간행기간\">1972</field>\n",
            "\t<field name=\"서명\">태조실록(太祖實錄)</field>\n",
            "\t<field name=\"간행처\">세종대왕기념사업회</field>\n",
            "\t<field name=\"아이템ID\">ITKC_JT</field>\n",
            "\t<field name=\"자료구분\">최종정보</field>\n",
            "\t<field name=\"주제분류\">인물(人物) 역사(歷史) 왕실(王室) 어문학(語文學) 외교-원(元)</field>\n",
            "\t<field name=\"검색필드\">명년 을묘(1255)에 산길이 이 사실을 원(元)나라 황제에게 알리니, 원나라에서 〈목조를 위해〉 알동 천호소(斡東千戶所)를 세우고 금패(金牌)를 내려 주어 남경 등처(南京等處) 오천호소(五千戶所)의 수천호(首千戶)로 삼고, 다루가치</field>\n",
            "\t<field name=\"자료ID\">ITKC_JT_A0_000_000_000_00020</field>\n",
            "\t<field name=\"역자\">이재호</field>\n",
            "\t<field name=\"사부분류\">사부(史部)-편년류(編年類)</field>\n",
            "\t<field name=\"간행년\">1972</field>\n",
            "</doc>\n",
            "<doc>\n",
            "\t<field name=\"서지ID\">ITKC_JT_A0</field>\n",
            "\t<field name=\"DCI_s\">ITKC_JT_A0_000_000_000_00030_2005_001_XML</field>\n",
            "\t<field name=\"저자\">|</field>\n",
            "\t<field name=\"기사명\">목조가 알동 부근의 해도에 석성을 쌓아 소와 말을 방목하다</field>\n",
            "\t<field name=\"간행기간\">1972</field>\n",
            "\t<field name=\"서명\">태조실록(太祖實錄)</field>\n",
            "\t<field name=\"간행처\">세종대왕기념사업회</field>\n",
            "\t<field name=\"아이템ID\">ITKC_JT</field>\n",
            "\t<field name=\"자료구분\">최종정보</field>\n",
            "\t<field name=\"주제분류\">인물(人物) 교통(交通) 왕실(王室) 역사(歷史) 과학-지학(地學)</field>\n",
            "\t<field name=\"검색필드\">알동의 동남쪽 30여 리에 해도(海島)가 있는데, 자고라(者考羅)라고 한다. 북쪽으로 육지에 연하였는데, 목조가 석성(石城)을 쌓아 소와 말을 놓아 먹였다. 【원전】 1 집 1 면 【분류】 인물(人物) &amp;#x2F; 교통(交通) &amp;#x2F; 왕실(王室)</field>\n",
            "\t<field name=\"자료ID\">ITKC_JT_A0_000_000_000_00030</field>\n",
            "\t<field name=\"역자\">이재호</field>\n",
            "\t<field name=\"사부분류\">사부(史部)-편년류(編年類)</field>\n",
            "\t<field name=\"간행년\">1972</field>\n",
            "</doc>\n",
            "<doc>\n",
            "\t<field name=\"서지ID\">ITKC_JT_A0</field>\n",
            "\t<field name=\"DCI_s\">ITKC_JT_A0_000_000_000_00040_2005_001_XML</field>\n",
            "\t<field name=\"저자\">|</field>\n",
            "\t<field name=\"기사명\">목조가 이춘 등의 8개 백호를 관할하고 흘찰 백호의 직무를 겸하다</field>\n",
            "\t<field name=\"간행기간\">1972</field>\n",
            "\t<field name=\"서명\">태조실록(太祖實錄)</field>\n",
            "\t<field name=\"간행처\">세종대왕기념사업회</field>\n",
            "\t<field name=\"아이템ID\">ITKC_JT</field>\n",
            "\t<field name=\"자료구분\">최종정보</field>\n",
            "\t<field name=\"주제분류\">인물(人物) 인사(人事) 왕실(王室) 역사(歷史)</field>\n",
            "\t<field name=\"검색필드\">〈원나라〉 헌종(憲宗) 8년(1258)에 산길(散吉)의 영지(令旨)를 받아, 이춘(李春)ㆍ문대순(文大純)ㆍ조오(趙奧)ㆍ노가아(魯哥兒)ㆍ탁청(卓靑)ㆍ상재(尙哉)ㆍ광혁(光奕)ㆍ장가(張哥) 등 8개 백호(百戶)를 관할하는 직책에 승진되고,</field>\n",
            "\t<field name=\"자료ID\">ITKC_JT_A0_000_000_000_00040</field>\n",
            "\t<field name=\"역자\">이재호</field>\n",
            "\t<field name=\"사부분류\">사부(史部)-편년류(編年類)</field>\n",
            "\t<field name=\"간행년\">1972</field>\n",
            "</doc>\n",
            "<doc>\n",
            "\t<field name=\"서지ID\">ITKC_JT_A0</field>\n",
            "\t<field name=\"DCI_s\">ITKC_JT_A0_000_000_000_00050_2005_001_XML</field>\n",
            "\t<field name=\"저자\">|</field>\n",
            "\t<field name=\"기사명\">원의 상서성에서 알동 천호소의 구리 도장을 보내오다</field>\n",
            "\t<field name=\"간행기간\">1972</field>\n",
            "\t<field name=\"서명\">태조실록(太祖實錄)</field>\n",
            "\t<field name=\"간행처\">세종대왕기념사업회</field>\n",
            "\t<field name=\"아이템ID\">ITKC_JT</field>\n",
            "\t<field name=\"자료구분\">최종정보</field>\n",
            "\t<field name=\"주제분류\">왕실(王室) 인물(人物) 역사(歷史) 외교-원(元)</field>\n",
            "\t<field name=\"검색필드\">세조 황제(世祖皇帝) 중통(中統) 2년(1261) 신유 6월에 상서성(尙書省)에서 본소(本所)에 행사하는 동인(銅印)을 내려 주었다. 【원전】 1 집 1 면 【분류】 왕실(王室) &amp;#x2F; 인물(人物) &amp;#x2F; 역사(歷史) &amp;#x2F; 외교-원(元)</field>\n",
            "\t<field name=\"자료ID\">ITKC_JT_A0_000_000_000_00050</field>\n",
            "\t<field name=\"역자\">이재호</field>\n",
            "\t<field name=\"사부분류\">사부(史部)-편년류(編年類)</field>\n",
            "\t<field name=\"간행년\">1972</field>\n",
            "</doc>\n",
            "<doc>\n",
            "\t<field name=\"서지ID\">ITKC_JT_A0</field>\n",
            "\t<field name=\"DCI_s\">ITKC_JT_A0_000_000_000_00060_2005_001_XML</field>\n",
            "\t<field name=\"저자\">|</field>\n",
            "\t<field name=\"기사명\">목조가 죽자 공주에서 장사지내고 후에 함흥부로 옮겨 덕릉이라 하다</field>\n",
            "\t<field name=\"간행기간\">1972</field>\n",
            "\t<field name=\"서명\">태조실록(太祖實錄)</field>\n",
            "\t<field name=\"간행처\">세종대왕기념사업회</field>\n",
            "\t<field name=\"아이템ID\">ITKC_JT</field>\n",
            "\t<field name=\"자료구분\">최종정보</field>\n",
            "\t<field name=\"주제분류\">인물(人物) 왕실(王室) 역사(歷史)</field>\n",
            "\t<field name=\"검색필드\">지원(至元) 원년(1264) 갑자 5월에 황제의 선명(宣命)을 받아, 그대로 알동 천호(斡東千戶)에 충원(充員)되었다. 지원(至元) 11년(1274) 갑술 12월에 훙(薨)하니, 공주(孔州) 【곧 경흥부(慶興府)이다.】 성(城) 남쪽</field>\n",
            "\t<field name=\"자료ID\">ITKC_JT_A0_000_000_000_00060</field>\n",
            "\t<field name=\"역자\">이재호</field>\n",
            "\t<field name=\"사부분류\">사부(史部)-편년류(編年類)</field>\n",
            "\t<field name=\"간행년\">1972</field>\n",
            "</doc>\n",
            "<doc>\n",
            "\t<field name=\"서지ID\">ITKC_JT_A0</field>\n",
            "\t<field name=\"DCI_s\">ITKC_JT_A0_000_000_000_00070_2005_001_XML</field>\n",
            "\t<field name=\"저자\">|</field>\n",
            "\t<field name=\"기사명\">익조 이행리가 목조의 관직을 이어받다</field>\n",
            "\t<field name=\"간행기간\">1972</field>\n",
            "\t<field name=\"서명\">태조실록(太祖實錄)</field>\n",
            "\t<field name=\"간행처\">세종대왕기념사업회</field>\n",
            "\t<field name=\"아이템ID\">ITKC_JT</field>\n",
            "\t<field name=\"자료구분\">최종정보</field>\n",
            "\t<field name=\"주제분류\">인물(人物) 왕실(王室) 역사(歷史) 인사(人事)</field>\n",
            "\t<field name=\"검색필드\">목조의 배위(配位)는 효비(孝妃) 이씨(李氏)이니, 같은 이씨(李氏)가 아니다. 천우위 장사(千牛衛長史) 이공숙(李公肅)의 딸이다. 휘(諱) 이행리(李行里)를 낳았으니, 이분이 익조(翼祖)이다. 지원(至元) 12년(1275) 을해 3</field>\n",
            "\t<field name=\"자료ID\">ITKC_JT_A0_000_000_000_00070</field>\n",
            "\t<field name=\"역자\">이재호</field>\n",
            "\t<field name=\"사부분류\">사부(史部)-편년류(編年類)</field>\n",
            "\t<field name=\"간행년\">1972</field>\n",
            "</doc>\n",
            "<doc>\n",
            "\t<field name=\"서지ID\">ITKC_JT_A0</field>\n",
            "\t<field name=\"DCI_s\">ITKC_JT_A0_000_000_000_00080_2005_001_XML</field>\n",
            "\t<field name=\"저자\">|</field>\n",
            "\t<field name=\"기사명\">익조가 원군과 함께 일본 정벌에 참여하고, 충렬왕을 알현하다</field>\n",
            "\t<field name=\"간행기간\">1972</field>\n",
            "\t<field name=\"서명\">태조실록(太祖實錄)</field>\n",
            "\t<field name=\"간행처\">세종대왕기념사업회</field>\n",
            "\t<field name=\"아이템ID\">ITKC_JT</field>\n",
            "\t<field name=\"자료구분\">최종정보</field>\n",
            "\t<field name=\"주제분류\">인물(人物) 왕실(王室) 역사(歷史) 외교-원(元) 외교-왜(倭)</field>\n",
            "\t<field name=\"검색필드\">18년(1281) 신사에 세조(世祖)가 일본(日本)을 정벌하니, 천하의 병선(兵船)이 합포(合浦)에 모였다. 익조(翼祖)가 상사(上司)의 문자(文字)를 받아, 본소(本所)의 인호(人戶)에 군인(軍人)을 기명하여 뽑아서 쌍성총관부(雙城</field>\n",
            "\t<field name=\"자료ID\">ITKC_JT_A0_000_000_000_00080</field>\n",
            "\t<field name=\"역자\">이재호</field>\n",
            "\t<field name=\"사부분류\">사부(史部)-편년류(編年類)</field>\n",
            "\t<field name=\"간행년\">1972</field>\n",
            "</doc>\n",
            "<doc>\n",
            "\t<field name=\"서지ID\">ITKC_JT_A0</field>\n",
            "\t<field name=\"DCI_s\">ITKC_JT_A0_000_000_000_00090_2005_001_XML</field>\n",
            "\t<field name=\"저자\">|</field>\n",
            "\t<field name=\"기사명\">익조가 여진 천호의 협공을 피해 알동의 백성을 거느리고 적도를 거쳐 의주에 정착하다</field>\n",
            "\t<field name=\"간행기간\">1972</field>\n",
            "\t<field name=\"서명\">태조실록(太祖實錄)</field>\n",
            "\t<field name=\"간행처\">세종대왕기념사업회</field>\n",
            "\t<field name=\"아이템ID\">ITKC_JT</field>\n",
            "\t<field name=\"자료구분\">최종정보</field>\n",
            "\t<field name=\"주제분류\">인물(人物) 왕실(王室) 역사(歷史) 외교-야(野)</field>\n",
            "\t<field name=\"검색필드\">처음에 목조가 때때로 현성(峴城)에 가니, 여러 여진(女眞)의 천호(千戶)와 다루가치(達魯花赤)들이 모두 교제(交際)하기를 원하므로, 마침내 그들과 함께 놀았다. 여러 천호(千戶)들이 예절을 갖추어 대접하기를 매우 후하게 하고, 반드</field>\n",
            "\t<field name=\"자료ID\">ITKC_JT_A0_000_000_000_00090</field>\n",
            "\t<field name=\"역자\">이재호</field>\n",
            "\t<field name=\"사부분류\">사부(史部)-편년류(編年類)</field>\n",
            "\t<field name=\"간행년\">1972</field>\n",
            "</doc>\n",
            "<doc>\n",
            "\t<field name=\"서지ID\">ITKC_JT_A0</field>\n",
            "\t<field name=\"DCI_s\">ITKC_JT_A0_000_000_000_00100_2005_001_XML</field>\n",
            "\t<field name=\"저자\">|</field>\n",
            "\t<field name=\"기사명\">익조의 손 부인이 죽자, 등주 호장 최기열의 딸과 재혼하여 등주에 거주하다</field>\n",
            "\t<field name=\"간행기간\">1972</field>\n",
            "\t<field name=\"서명\">태조실록(太祖實錄)</field>\n",
            "\t<field name=\"간행처\">세종대왕기념사업회</field>\n",
            "\t<field name=\"아이템ID\">ITKC_JT</field>\n",
            "\t<field name=\"자료구분\">최종정보</field>\n",
            "\t<field name=\"주제분류\">인물(人物) 왕실(王室) 역사(歷史)</field>\n",
            "\t<field name=\"검색필드\">손 부인(孫夫人)이 두 아들을 낳았으니, 맏아들은 규수(嬀水)이고, 다음 아들은 복(福)이다. 부인이 돌아가자 두 번째로 장가든 배위(配位) 정비(貞妃) 최씨(崔氏)는 등주(登州) 【곧 안변(安邊)이다.】 호장(戶長) 최기열(崔基烈)</field>\n",
            "\t<field name=\"자료ID\">ITKC_JT_A0_000_000_000_00100</field>\n",
            "\t<field name=\"역자\">이재호</field>\n",
            "\t<field name=\"사부분류\">사부(史部)-편년류(編年類)</field>\n",
            "\t<field name=\"간행년\">1972</field>\n",
            "</doc>\n",
            "</result>\n",
            "</response>\n"
          ]
        }
      ]
    },
    {
      "cell_type": "code",
      "source": [
        "root"
      ],
      "metadata": {
        "colab": {
          "base_uri": "https://localhost:8080/"
        },
        "id": "5MqNFua-3Zch",
        "outputId": "65904dbf-f6db-425a-c73e-0a92e340d12a"
      },
      "execution_count": 48,
      "outputs": [
        {
          "output_type": "execute_result",
          "data": {
            "text/plain": [
              "<Element 'response' at 0x7bc2192d6c50>"
            ]
          },
          "metadata": {},
          "execution_count": 48
        }
      ]
    },
    {
      "cell_type": "code",
      "source": [
        "rooter = root.getroot()"
      ],
      "metadata": {
        "colab": {
          "base_uri": "https://localhost:8080/",
          "height": 144
        },
        "id": "dkkfZ4ByFE1Z",
        "outputId": "c022c10d-7d1d-40e6-9ab8-641162a431f5"
      },
      "execution_count": 42,
      "outputs": [
        {
          "output_type": "error",
          "ename": "AttributeError",
          "evalue": "'xml.etree.ElementTree.Element' object has no attribute 'getroot'",
          "traceback": [
            "\u001b[0;31m---------------------------------------------------------------------------\u001b[0m",
            "\u001b[0;31mAttributeError\u001b[0m                            Traceback (most recent call last)",
            "\u001b[0;32m<ipython-input-42-70c96aaeef4e>\u001b[0m in \u001b[0;36m<cell line: 1>\u001b[0;34m()\u001b[0m\n\u001b[0;32m----> 1\u001b[0;31m \u001b[0mrooter\u001b[0m \u001b[0;34m=\u001b[0m \u001b[0mroot\u001b[0m\u001b[0;34m.\u001b[0m\u001b[0mgetroot\u001b[0m\u001b[0;34m(\u001b[0m\u001b[0;34m)\u001b[0m\u001b[0;34m\u001b[0m\u001b[0;34m\u001b[0m\u001b[0m\n\u001b[0m",
            "\u001b[0;31mAttributeError\u001b[0m: 'xml.etree.ElementTree.Element' object has no attribute 'getroot'"
          ]
        }
      ]
    },
    {
      "cell_type": "code",
      "source": [
        "import lxml.etree as etree"
      ],
      "metadata": {
        "id": "TvZQtakRFHYD"
      },
      "execution_count": 43,
      "outputs": []
    },
    {
      "cell_type": "code",
      "source": [
        "!pip install xmltodict"
      ],
      "metadata": {
        "colab": {
          "base_uri": "https://localhost:8080/"
        },
        "id": "5rwaE6gpGrBN",
        "outputId": "5fb3cebe-401d-495d-d12d-df84ba278cbb"
      },
      "execution_count": 44,
      "outputs": [
        {
          "output_type": "stream",
          "name": "stdout",
          "text": [
            "Collecting xmltodict\n",
            "  Downloading xmltodict-0.13.0-py2.py3-none-any.whl (10.0 kB)\n",
            "Installing collected packages: xmltodict\n",
            "Successfully installed xmltodict-0.13.0\n"
          ]
        }
      ]
    },
    {
      "cell_type": "code",
      "source": [
        "import xmltodict"
      ],
      "metadata": {
        "id": "uMY7wvxTGvTb"
      },
      "execution_count": 45,
      "outputs": []
    },
    {
      "cell_type": "code",
      "source": [
        "tree = etree.parse(root)"
      ],
      "metadata": {
        "colab": {
          "base_uri": "https://localhost:8080/",
          "height": 216
        },
        "id": "qfonWQdTG0Ws",
        "outputId": "300a7c8f-fcf4-4d95-8bdf-9df0bed0ca6e"
      },
      "execution_count": 46,
      "outputs": [
        {
          "output_type": "error",
          "ename": "TypeError",
          "evalue": "cannot parse from 'xml.etree.ElementTree.Element'",
          "traceback": [
            "\u001b[0;31m---------------------------------------------------------------------------\u001b[0m",
            "\u001b[0;31mTypeError\u001b[0m                                 Traceback (most recent call last)",
            "\u001b[0;32m<ipython-input-46-ba8571780b7b>\u001b[0m in \u001b[0;36m<cell line: 1>\u001b[0;34m()\u001b[0m\n\u001b[0;32m----> 1\u001b[0;31m \u001b[0mtree\u001b[0m \u001b[0;34m=\u001b[0m \u001b[0metree\u001b[0m\u001b[0;34m.\u001b[0m\u001b[0mparse\u001b[0m\u001b[0;34m(\u001b[0m\u001b[0mroot\u001b[0m\u001b[0;34m)\u001b[0m\u001b[0;34m\u001b[0m\u001b[0;34m\u001b[0m\u001b[0m\n\u001b[0m",
            "\u001b[0;32msrc/lxml/etree.pyx\u001b[0m in \u001b[0;36mlxml.etree.parse\u001b[0;34m()\u001b[0m\n",
            "\u001b[0;32msrc/lxml/parser.pxi\u001b[0m in \u001b[0;36mlxml.etree._parseDocument\u001b[0;34m()\u001b[0m\n",
            "\u001b[0;31mTypeError\u001b[0m: cannot parse from 'xml.etree.ElementTree.Element'"
          ]
        }
      ]
    },
    {
      "cell_type": "code",
      "source": [
        "root.keys()"
      ],
      "metadata": {
        "colab": {
          "base_uri": "https://localhost:8080/"
        },
        "id": "Kt4--XRWG5Op",
        "outputId": "326ecf39-e50e-44e4-ecf5-2793737f5084"
      },
      "execution_count": 56,
      "outputs": [
        {
          "output_type": "execute_result",
          "data": {
            "text/plain": [
              "[]"
            ]
          },
          "metadata": {},
          "execution_count": 56
        }
      ]
    },
    {
      "cell_type": "code",
      "source": [
        "type(root)"
      ],
      "metadata": {
        "colab": {
          "base_uri": "https://localhost:8080/"
        },
        "id": "QJHqbQhBKLmy",
        "outputId": "2a082b35-4671-4a01-c573-27fbacf14b29"
      },
      "execution_count": 52,
      "outputs": [
        {
          "output_type": "execute_result",
          "data": {
            "text/plain": [
              "xml.etree.ElementTree.Element"
            ]
          },
          "metadata": {},
          "execution_count": 52
        }
      ]
    },
    {
      "cell_type": "code",
      "source": [
        "root.items()"
      ],
      "metadata": {
        "colab": {
          "base_uri": "https://localhost:8080/"
        },
        "id": "k_fa7JXNKhA7",
        "outputId": "3e50c0e4-fa40-48fb-aaa7-4a50f5d75559"
      },
      "execution_count": 55,
      "outputs": [
        {
          "output_type": "execute_result",
          "data": {
            "text/plain": [
              "[]"
            ]
          },
          "metadata": {},
          "execution_count": 55
        }
      ]
    },
    {
      "cell_type": "code",
      "source": [
        "response.text"
      ],
      "metadata": {
        "colab": {
          "base_uri": "https://localhost:8080/",
          "height": 125
        },
        "id": "E95eFAdtKlkB",
        "outputId": "65e8e266-2484-4375-c9b9-2d50afff251e"
      },
      "execution_count": 62,
      "outputs": [
        {
          "output_type": "execute_result",
          "data": {
            "text/plain": [
              "'<?xml version=\"1.0\" encoding=\"utf-8\" ?>\\n<response>\\n<header>\\n\\t<field name=\\'secId\\'>JT_BD</field>\\n\\t<field name=\\'keyword\\'></field>\\n\\t<field name=\\'start\\'>0</field>\\n\\t<field name=\\'rows\\'>10</field>\\n\\t<field name=\\'totalCount\\'>361850</field>\\n</header>\\n<result>\\n<doc>\\n\\t<field name=\\'서지ID\\'>ITKC_JT_A0</field>\\n\\t<field name=\\'DCI_s\\'>ITKC_JT_A0_000_000_000_00010_2005_001_XML</field>\\n\\t<field name=\\'저자\\'>|</field>\\n\\t<field name=\\'기사명\\'>태조 이성계 선대의 가계. 목조 이안사가 전주에서 삼척ㆍ의주를 거쳐 알동에 정착하다</field>\\n\\t<field name=\\'간행기간\\'>1972</field>\\n\\t<field name=\\'서명\\'>태조실록(太祖實錄)</field>\\n\\t<field name=\\'간행처\\'>세종대왕기념사업회</field>\\n\\t<field name=\\'아이템ID\\'>ITKC_JT</field>\\n\\t<field name=\\'자료구분\\'>최종정보</field>\\n\\t<field name=\\'주제분류\\'>인물(人物) 역사(歷史) 왕실(王室) 외교-원(元)</field>\\n\\t<field name=\\'검색필드\\'>태조 강헌 지인 계운 성문 신무 대왕(太祖康獻至仁啓運聖文神武大王)의 성은 이씨(李氏)요, 휘(諱)는 단(旦)이요, 자(字)는 군진(君晉)이다. 왕위에 오르기 전의 휘는 성계(成桂)이고, 호(號)는 송헌(松軒)인데, 전주(全州)의 대성</field>\\n\\t<field name=\\'자료ID\\'>ITKC_JT_A0_000_000_000_00010</field>\\n\\t<field name=\\'역자\\'>이재호</field>\\n\\t<field name=\\'사부분류\\'>사부(史部)-편년류(編年類)</field>\\n\\t<field name=\\'간행년\\'>1972</field>\\n</doc>\\n<doc>\\n\\t<field name=\\'서지ID\\'>ITKC_JT_A0</field>\\n\\t<field name=\\'DCI_s\\'>ITKC_JT_A0_000_000_000_00020_2005_001_XML</field>\\n\\t<field name=\\'저자\\'>|</field>\\n\\t<field name=\\'기사명\\'>목조 이안사가 알동 천호소의 수(首)천호로서 다루가치를 겸하다</field>\\n\\t<field name=\\'간행기간\\'>1972</field>\\n\\t<field name=\\'서명\\'>태조실록(太祖實錄)</field>\\n\\t<field name=\\'간행처\\'>세종대왕기념사업회</field>\\n\\t<field name=\\'아이템ID\\'>ITKC_JT</field>\\n\\t<field name=\\'자료구분\\'>최종정보</field>\\n\\t<field name=\\'주제분류\\'>인물(人物) 역사(歷史) 왕실(王室) 어문학(語文學) 외교-원(元)</field>\\n\\t<field name=\\'검색필드\\'>명년 을묘(1255)에 산길이 이 사실을 원(元)나라 황제에게 알리니, 원나라에서 〈목조를 위해〉 알동 천호소(斡東千戶所)를 세우고 금패(金牌)를 내려 주어 남경 등처(南京等處) 오천호소(五千戶所)의 수천호(首千戶)로 삼고, 다루가치</field>\\n\\t<field name=\\'자료ID\\'>ITKC_JT_A0_000_000_000_00020</field>\\n\\t<field name=\\'역자\\'>이재호</field>\\n\\t<field name=\\'사부분류\\'>사부(史部)-편년류(編年類)</field>\\n\\t<field name=\\'간행년\\'>1972</field>\\n</doc>\\n<doc>\\n\\t<field name=\\'서지ID\\'>ITKC_JT_A0</field>\\n\\t<field name=\\'DCI_s\\'>ITKC_JT_A0_000_000_000_00030_2005_001_XML</field>\\n\\t<field name=\\'저자\\'>|</field>\\n\\t<field name=\\'기사명\\'>목조가 알동 부근의 해도에 석성을 쌓아 소와 말을 방목하다</field>\\n\\t<field name=\\'간행기간\\'>1972</field>\\n\\t<field name=\\'서명\\'>태조실록(太祖實錄)</field>\\n\\t<field name=\\'간행처\\'>세종대왕기념사업회</field>\\n\\t<field name=\\'아이템ID\\'>ITKC_JT</field>\\n\\t<field name=\\'자료구분\\'>최종정보</field>\\n\\t<field name=\\'주제분류\\'>인물(人物) 교통(交通) 왕실(王室) 역사(歷史) 과학-지학(地學)</field>\\n\\t<field name=\\'검색필드\\'>알동의 동남쪽 30여 리에 해도(海島)가 있는데, 자고라(者考羅)라고 한다. 북쪽으로 육지에 연하였는데, 목조가 석성(石城)을 쌓아 소와 말을 놓아 먹였다. 【원전】 1 집 1 면 【분류】 인물(人物) &amp;#x2F; 교통(交通) &amp;#x2F; 왕실(王室)</field>\\n\\t<field name=\\'자료ID\\'>ITKC_JT_A0_000_000_000_00030</field>\\n\\t<field name=\\'역자\\'>이재호</field>\\n\\t<field name=\\'사부분류\\'>사부(史部)-편년류(編年類)</field>\\n\\t<field name=\\'간행년\\'>1972</field>\\n</doc>\\n<doc>\\n\\t<field name=\\'서지ID\\'>ITKC_JT_A0</field>\\n\\t<field name=\\'DCI_s\\'>ITKC_JT_A0_000_000_000_00040_2005_001_XML</field>\\n\\t<field name=\\'저자\\'>|</field>\\n\\t<field name=\\'기사명\\'>목조가 이춘 등의 8개 백호를 관할하고 흘찰 백호의 직무를 겸하다</field>\\n\\t<field name=\\'간행기간\\'>1972</field>\\n\\t<field name=\\'서명\\'>태조실록(太祖實錄)</field>\\n\\t<field name=\\'간행처\\'>세종대왕기념사업회</field>\\n\\t<field name=\\'아이템ID\\'>ITKC_JT</field>\\n\\t<field name=\\'자료구분\\'>최종정보</field>\\n\\t<field name=\\'주제분류\\'>인물(人物) 인사(人事) 왕실(王室) 역사(歷史)</field>\\n\\t<field name=\\'검색필드\\'>〈원나라〉 헌종(憲宗) 8년(1258)에 산길(散吉)의 영지(令旨)를 받아, 이춘(李春)ㆍ문대순(文大純)ㆍ조오(趙奧)ㆍ노가아(魯哥兒)ㆍ탁청(卓靑)ㆍ상재(尙哉)ㆍ광혁(光奕)ㆍ장가(張哥) 등 8개 백호(百戶)를 관할하는 직책에 승진되고,</field>\\n\\t<field name=\\'자료ID\\'>ITKC_JT_A0_000_000_000_00040</field>\\n\\t<field name=\\'역자\\'>이재호</field>\\n\\t<field name=\\'사부분류\\'>사부(史部)-편년류(編年類)</field>\\n\\t<field name=\\'간행년\\'>1972</field>\\n</doc>\\n<doc>\\n\\t<field name=\\'서지ID\\'>ITKC_JT_A0</field>\\n\\t<field name=\\'DCI_s\\'>ITKC_JT_A0_000_000_000_00050_2005_001_XML</field>\\n\\t<field name=\\'저자\\'>|</field>\\n\\t<field name=\\'기사명\\'>원의 상서성에서 알동 천호소의 구리 도장을 보내오다</field>\\n\\t<field name=\\'간행기간\\'>1972</field>\\n\\t<field name=\\'서명\\'>태조실록(太祖實錄)</field>\\n\\t<field name=\\'간행처\\'>세종대왕기념사업회</field>\\n\\t<field name=\\'아이템ID\\'>ITKC_JT</field>\\n\\t<field name=\\'자료구분\\'>최종정보</field>\\n\\t<field name=\\'주제분류\\'>왕실(王室) 인물(人物) 역사(歷史) 외교-원(元)</field>\\n\\t<field name=\\'검색필드\\'>세조 황제(世祖皇帝) 중통(中統) 2년(1261) 신유 6월에 상서성(尙書省)에서 본소(本所)에 행사하는 동인(銅印)을 내려 주었다. 【원전】 1 집 1 면 【분류】 왕실(王室) &amp;#x2F; 인물(人物) &amp;#x2F; 역사(歷史) &amp;#x2F; 외교-원(元)</field>\\n\\t<field name=\\'자료ID\\'>ITKC_JT_A0_000_000_000_00050</field>\\n\\t<field name=\\'역자\\'>이재호</field>\\n\\t<field name=\\'사부분류\\'>사부(史部)-편년류(編年類)</field>\\n\\t<field name=\\'간행년\\'>1972</field>\\n</doc>\\n<doc>\\n\\t<field name=\\'서지ID\\'>ITKC_JT_A0</field>\\n\\t<field name=\\'DCI_s\\'>ITKC_JT_A0_000_000_000_00060_2005_001_XML</field>\\n\\t<field name=\\'저자\\'>|</field>\\n\\t<field name=\\'기사명\\'>목조가 죽자 공주에서 장사지내고 후에 함흥부로 옮겨 덕릉이라 하다</field>\\n\\t<field name=\\'간행기간\\'>1972</field>\\n\\t<field name=\\'서명\\'>태조실록(太祖實錄)</field>\\n\\t<field name=\\'간행처\\'>세종대왕기념사업회</field>\\n\\t<field name=\\'아이템ID\\'>ITKC_JT</field>\\n\\t<field name=\\'자료구분\\'>최종정보</field>\\n\\t<field name=\\'주제분류\\'>인물(人物) 왕실(王室) 역사(歷史)</field>\\n\\t<field name=\\'검색필드\\'>지원(至元) 원년(1264) 갑자 5월에 황제의 선명(宣命)을 받아, 그대로 알동 천호(斡東千戶)에 충원(充員)되었다. 지원(至元) 11년(1274) 갑술 12월에 훙(薨)하니, 공주(孔州) 【곧 경흥부(慶興府)이다.】 성(城) 남쪽</field>\\n\\t<field name=\\'자료ID\\'>ITKC_JT_A0_000_000_000_00060</field>\\n\\t<field name=\\'역자\\'>이재호</field>\\n\\t<field name=\\'사부분류\\'>사부(史部)-편년류(編年類)</field>\\n\\t<field name=\\'간행년\\'>1972</field>\\n</doc>\\n<doc>\\n\\t<field name=\\'서지ID\\'>ITKC_JT_A0</field>\\n\\t<field name=\\'DCI_s\\'>ITKC_JT_A0_000_000_000_00070_2005_001_XML</field>\\n\\t<field name=\\'저자\\'>|</field>\\n\\t<field name=\\'기사명\\'>익조 이행리가 목조의 관직을 이어받다</field>\\n\\t<field name=\\'간행기간\\'>1972</field>\\n\\t<field name=\\'서명\\'>태조실록(太祖實錄)</field>\\n\\t<field name=\\'간행처\\'>세종대왕기념사업회</field>\\n\\t<field name=\\'아이템ID\\'>ITKC_JT</field>\\n\\t<field name=\\'자료구분\\'>최종정보</field>\\n\\t<field name=\\'주제분류\\'>인물(人物) 왕실(王室) 역사(歷史) 인사(人事)</field>\\n\\t<field name=\\'검색필드\\'>목조의 배위(配位)는 효비(孝妃) 이씨(李氏)이니, 같은 이씨(李氏)가 아니다. 천우위 장사(千牛衛長史) 이공숙(李公肅)의 딸이다. 휘(諱) 이행리(李行里)를 낳았으니, 이분이 익조(翼祖)이다. 지원(至元) 12년(1275) 을해 3</field>\\n\\t<field name=\\'자료ID\\'>ITKC_JT_A0_000_000_000_00070</field>\\n\\t<field name=\\'역자\\'>이재호</field>\\n\\t<field name=\\'사부분류\\'>사부(史部)-편년류(編年類)</field>\\n\\t<field name=\\'간행년\\'>1972</field>\\n</doc>\\n<doc>\\n\\t<field name=\\'서지ID\\'>ITKC_JT_A0</field>\\n\\t<field name=\\'DCI_s\\'>ITKC_JT_A0_000_000_000_00080_2005_001_XML</field>\\n\\t<field name=\\'저자\\'>|</field>\\n\\t<field name=\\'기사명\\'>익조가 원군과 함께 일본 정벌에 참여하고, 충렬왕을 알현하다</field>\\n\\t<field name=\\'간행기간\\'>1972</field>\\n\\t<field name=\\'서명\\'>태조실록(太祖實錄)</field>\\n\\t<field name=\\'간행처\\'>세종대왕기념사업회</field>\\n\\t<field name=\\'아이템ID\\'>ITKC_JT</field>\\n\\t<field name=\\'자료구분\\'>최종정보</field>\\n\\t<field name=\\'주제분류\\'>인물(人物) 왕실(王室) 역사(歷史) 외교-원(元) 외교-왜(倭)</field>\\n\\t<field name=\\'검색필드\\'>18년(1281) 신사에 세조(世祖)가 일본(日本)을 정벌하니, 천하의 병선(兵船)이 합포(合浦)에 모였다. 익조(翼祖)가 상사(上司)의 문자(文字)를 받아, 본소(本所)의 인호(人戶)에 군인(軍人)을 기명하여 뽑아서 쌍성총관부(雙城</field>\\n\\t<field name=\\'자료ID\\'>ITKC_JT_A0_000_000_000_00080</field>\\n\\t<field name=\\'역자\\'>이재호</field>\\n\\t<field name=\\'사부분류\\'>사부(史部)-편년류(編年類)</field>\\n\\t<field name=\\'간행년\\'>1972</field>\\n</doc>\\n<doc>\\n\\t<field name=\\'서지ID\\'>ITKC_JT_A0</field>\\n\\t<field name=\\'DCI_s\\'>ITKC_JT_A0_000_000_000_00090_2005_001_XML</field>\\n\\t<field name=\\'저자\\'>|</field>\\n\\t<field name=\\'기사명\\'>익조가 여진 천호의 협공을 피해 알동의 백성을 거느리고 적도를 거쳐 의주에 정착하다</field>\\n\\t<field name=\\'간행기간\\'>1972</field>\\n\\t<field name=\\'서명\\'>태조실록(太祖實錄)</field>\\n\\t<field name=\\'간행처\\'>세종대왕기념사업회</field>\\n\\t<field name=\\'아이템ID\\'>ITKC_JT</field>\\n\\t<field name=\\'자료구분\\'>최종정보</field>\\n\\t<field name=\\'주제분류\\'>인물(人物) 왕실(王室) 역사(歷史) 외교-야(野)</field>\\n\\t<field name=\\'검색필드\\'>처음에 목조가 때때로 현성(峴城)에 가니, 여러 여진(女眞)의 천호(千戶)와 다루가치(達魯花赤)들이 모두 교제(交際)하기를 원하므로, 마침내 그들과 함께 놀았다. 여러 천호(千戶)들이 예절을 갖추어 대접하기를 매우 후하게 하고, 반드</field>\\n\\t<field name=\\'자료ID\\'>ITKC_JT_A0_000_000_000_00090</field>\\n\\t<field name=\\'역자\\'>이재호</field>\\n\\t<field name=\\'사부분류\\'>사부(史部)-편년류(編年類)</field>\\n\\t<field name=\\'간행년\\'>1972</field>\\n</doc>\\n<doc>\\n\\t<field name=\\'서지ID\\'>ITKC_JT_A0</field>\\n\\t<field name=\\'DCI_s\\'>ITKC_JT_A0_000_000_000_00100_2005_001_XML</field>\\n\\t<field name=\\'저자\\'>|</field>\\n\\t<field name=\\'기사명\\'>익조의 손 부인이 죽자, 등주 호장 최기열의 딸과 재혼하여 등주에 거주하다</field>\\n\\t<field name=\\'간행기간\\'>1972</field>\\n\\t<field name=\\'서명\\'>태조실록(太祖實錄)</field>\\n\\t<field name=\\'간행처\\'>세종대왕기념사업회</field>\\n\\t<field name=\\'아이템ID\\'>ITKC_JT</field>\\n\\t<field name=\\'자료구분\\'>최종정보</field>\\n\\t<field name=\\'주제분류\\'>인물(人物) 왕실(王室) 역사(歷史)</field>\\n\\t<field name=\\'검색필드\\'>손 부인(孫夫人)이 두 아들을 낳았으니, 맏아들은 규수(嬀水)이고, 다음 아들은 복(福)이다. 부인이 돌아가자 두 번째로 장가든 배위(配位) 정비(貞妃) 최씨(崔氏)는 등주(登州) 【곧 안변(安邊)이다.】 호장(戶長) 최기열(崔基烈)</field>\\n\\t<field name=\\'자료ID\\'>ITKC_JT_A0_000_000_000_00100</field>\\n\\t<field name=\\'역자\\'>이재호</field>\\n\\t<field name=\\'사부분류\\'>사부(史部)-편년류(編年類)</field>\\n\\t<field name=\\'간행년\\'>1972</field>\\n</doc>\\n</result>\\n</response>\\n'"
            ],
            "application/vnd.google.colaboratory.intrinsic+json": {
              "type": "string"
            }
          },
          "metadata": {},
          "execution_count": 62
        }
      ]
    },
    {
      "cell_type": "code",
      "source": [
        "texts = response.text\n",
        "texts['검색필드']"
      ],
      "metadata": {
        "colab": {
          "base_uri": "https://localhost:8080/",
          "height": 162
        },
        "id": "SsDv5IGvLHWn",
        "outputId": "08f38987-5085-4079-c845-e906e5651e3c"
      },
      "execution_count": 65,
      "outputs": [
        {
          "output_type": "error",
          "ename": "TypeError",
          "evalue": "string indices must be integers",
          "traceback": [
            "\u001b[0;31m---------------------------------------------------------------------------\u001b[0m",
            "\u001b[0;31mTypeError\u001b[0m                                 Traceback (most recent call last)",
            "\u001b[0;32m<ipython-input-65-f76c4b9f36f3>\u001b[0m in \u001b[0;36m<cell line: 2>\u001b[0;34m()\u001b[0m\n\u001b[1;32m      1\u001b[0m \u001b[0mtexts\u001b[0m \u001b[0;34m=\u001b[0m \u001b[0mresponse\u001b[0m\u001b[0;34m.\u001b[0m\u001b[0mtext\u001b[0m\u001b[0;34m\u001b[0m\u001b[0;34m\u001b[0m\u001b[0m\n\u001b[0;32m----> 2\u001b[0;31m \u001b[0mtexts\u001b[0m\u001b[0;34m[\u001b[0m\u001b[0;34m'검색필드'\u001b[0m\u001b[0;34m]\u001b[0m\u001b[0;34m\u001b[0m\u001b[0;34m\u001b[0m\u001b[0m\n\u001b[0m",
            "\u001b[0;31mTypeError\u001b[0m: string indices must be integers"
          ]
        }
      ]
    },
    {
      "cell_type": "code",
      "source": [
        "import xml.etree.ElementTree as ET\n"
      ],
      "metadata": {
        "id": "RsHox9u3L1na"
      },
      "execution_count": 66,
      "outputs": []
    },
    {
      "cell_type": "code",
      "source": [
        "root = ET.fromstring(response.content)\n",
        "xml_str = ET.tostring(root, encoding='utf8').decode('utf8')"
      ],
      "metadata": {
        "id": "xLaJNypNLUxq"
      },
      "execution_count": 67,
      "outputs": []
    },
    {
      "cell_type": "code",
      "source": [
        "print(xml_str)"
      ],
      "metadata": {
        "colab": {
          "base_uri": "https://localhost:8080/"
        },
        "id": "iPE3bCMrL2OS",
        "outputId": "81a210bb-f3a6-444f-c569-35a975663545"
      },
      "execution_count": 71,
      "outputs": [
        {
          "output_type": "stream",
          "name": "stdout",
          "text": [
            "<?xml version='1.0' encoding='utf8'?>\n",
            "<response>\n",
            "<header>\n",
            "\t<field name=\"secId\">JT_BD</field>\n",
            "\t<field name=\"keyword\" />\n",
            "\t<field name=\"start\">0</field>\n",
            "\t<field name=\"rows\">10</field>\n",
            "\t<field name=\"totalCount\">361850</field>\n",
            "</header>\n",
            "<result>\n",
            "<doc>\n",
            "\t<field name=\"서지ID\">ITKC_JT_A0</field>\n",
            "\t<field name=\"DCI_s\">ITKC_JT_A0_000_000_000_00010_2005_001_XML</field>\n",
            "\t<field name=\"저자\">|</field>\n",
            "\t<field name=\"기사명\">태조 이성계 선대의 가계. 목조 이안사가 전주에서 삼척ㆍ의주를 거쳐 알동에 정착하다</field>\n",
            "\t<field name=\"간행기간\">1972</field>\n",
            "\t<field name=\"서명\">태조실록(太祖實錄)</field>\n",
            "\t<field name=\"간행처\">세종대왕기념사업회</field>\n",
            "\t<field name=\"아이템ID\">ITKC_JT</field>\n",
            "\t<field name=\"자료구분\">최종정보</field>\n",
            "\t<field name=\"주제분류\">인물(人物) 역사(歷史) 왕실(王室) 외교-원(元)</field>\n",
            "\t<field name=\"검색필드\">태조 강헌 지인 계운 성문 신무 대왕(太祖康獻至仁啓運聖文神武大王)의 성은 이씨(李氏)요, 휘(諱)는 단(旦)이요, 자(字)는 군진(君晉)이다. 왕위에 오르기 전의 휘는 성계(成桂)이고, 호(號)는 송헌(松軒)인데, 전주(全州)의 대성</field>\n",
            "\t<field name=\"자료ID\">ITKC_JT_A0_000_000_000_00010</field>\n",
            "\t<field name=\"역자\">이재호</field>\n",
            "\t<field name=\"사부분류\">사부(史部)-편년류(編年類)</field>\n",
            "\t<field name=\"간행년\">1972</field>\n",
            "</doc>\n",
            "<doc>\n",
            "\t<field name=\"서지ID\">ITKC_JT_A0</field>\n",
            "\t<field name=\"DCI_s\">ITKC_JT_A0_000_000_000_00020_2005_001_XML</field>\n",
            "\t<field name=\"저자\">|</field>\n",
            "\t<field name=\"기사명\">목조 이안사가 알동 천호소의 수(首)천호로서 다루가치를 겸하다</field>\n",
            "\t<field name=\"간행기간\">1972</field>\n",
            "\t<field name=\"서명\">태조실록(太祖實錄)</field>\n",
            "\t<field name=\"간행처\">세종대왕기념사업회</field>\n",
            "\t<field name=\"아이템ID\">ITKC_JT</field>\n",
            "\t<field name=\"자료구분\">최종정보</field>\n",
            "\t<field name=\"주제분류\">인물(人物) 역사(歷史) 왕실(王室) 어문학(語文學) 외교-원(元)</field>\n",
            "\t<field name=\"검색필드\">명년 을묘(1255)에 산길이 이 사실을 원(元)나라 황제에게 알리니, 원나라에서 〈목조를 위해〉 알동 천호소(斡東千戶所)를 세우고 금패(金牌)를 내려 주어 남경 등처(南京等處) 오천호소(五千戶所)의 수천호(首千戶)로 삼고, 다루가치</field>\n",
            "\t<field name=\"자료ID\">ITKC_JT_A0_000_000_000_00020</field>\n",
            "\t<field name=\"역자\">이재호</field>\n",
            "\t<field name=\"사부분류\">사부(史部)-편년류(編年類)</field>\n",
            "\t<field name=\"간행년\">1972</field>\n",
            "</doc>\n",
            "<doc>\n",
            "\t<field name=\"서지ID\">ITKC_JT_A0</field>\n",
            "\t<field name=\"DCI_s\">ITKC_JT_A0_000_000_000_00030_2005_001_XML</field>\n",
            "\t<field name=\"저자\">|</field>\n",
            "\t<field name=\"기사명\">목조가 알동 부근의 해도에 석성을 쌓아 소와 말을 방목하다</field>\n",
            "\t<field name=\"간행기간\">1972</field>\n",
            "\t<field name=\"서명\">태조실록(太祖實錄)</field>\n",
            "\t<field name=\"간행처\">세종대왕기념사업회</field>\n",
            "\t<field name=\"아이템ID\">ITKC_JT</field>\n",
            "\t<field name=\"자료구분\">최종정보</field>\n",
            "\t<field name=\"주제분류\">인물(人物) 교통(交通) 왕실(王室) 역사(歷史) 과학-지학(地學)</field>\n",
            "\t<field name=\"검색필드\">알동의 동남쪽 30여 리에 해도(海島)가 있는데, 자고라(者考羅)라고 한다. 북쪽으로 육지에 연하였는데, 목조가 석성(石城)을 쌓아 소와 말을 놓아 먹였다. 【원전】 1 집 1 면 【분류】 인물(人物) &amp;#x2F; 교통(交通) &amp;#x2F; 왕실(王室)</field>\n",
            "\t<field name=\"자료ID\">ITKC_JT_A0_000_000_000_00030</field>\n",
            "\t<field name=\"역자\">이재호</field>\n",
            "\t<field name=\"사부분류\">사부(史部)-편년류(編年類)</field>\n",
            "\t<field name=\"간행년\">1972</field>\n",
            "</doc>\n",
            "<doc>\n",
            "\t<field name=\"서지ID\">ITKC_JT_A0</field>\n",
            "\t<field name=\"DCI_s\">ITKC_JT_A0_000_000_000_00040_2005_001_XML</field>\n",
            "\t<field name=\"저자\">|</field>\n",
            "\t<field name=\"기사명\">목조가 이춘 등의 8개 백호를 관할하고 흘찰 백호의 직무를 겸하다</field>\n",
            "\t<field name=\"간행기간\">1972</field>\n",
            "\t<field name=\"서명\">태조실록(太祖實錄)</field>\n",
            "\t<field name=\"간행처\">세종대왕기념사업회</field>\n",
            "\t<field name=\"아이템ID\">ITKC_JT</field>\n",
            "\t<field name=\"자료구분\">최종정보</field>\n",
            "\t<field name=\"주제분류\">인물(人物) 인사(人事) 왕실(王室) 역사(歷史)</field>\n",
            "\t<field name=\"검색필드\">〈원나라〉 헌종(憲宗) 8년(1258)에 산길(散吉)의 영지(令旨)를 받아, 이춘(李春)ㆍ문대순(文大純)ㆍ조오(趙奧)ㆍ노가아(魯哥兒)ㆍ탁청(卓靑)ㆍ상재(尙哉)ㆍ광혁(光奕)ㆍ장가(張哥) 등 8개 백호(百戶)를 관할하는 직책에 승진되고,</field>\n",
            "\t<field name=\"자료ID\">ITKC_JT_A0_000_000_000_00040</field>\n",
            "\t<field name=\"역자\">이재호</field>\n",
            "\t<field name=\"사부분류\">사부(史部)-편년류(編年類)</field>\n",
            "\t<field name=\"간행년\">1972</field>\n",
            "</doc>\n",
            "<doc>\n",
            "\t<field name=\"서지ID\">ITKC_JT_A0</field>\n",
            "\t<field name=\"DCI_s\">ITKC_JT_A0_000_000_000_00050_2005_001_XML</field>\n",
            "\t<field name=\"저자\">|</field>\n",
            "\t<field name=\"기사명\">원의 상서성에서 알동 천호소의 구리 도장을 보내오다</field>\n",
            "\t<field name=\"간행기간\">1972</field>\n",
            "\t<field name=\"서명\">태조실록(太祖實錄)</field>\n",
            "\t<field name=\"간행처\">세종대왕기념사업회</field>\n",
            "\t<field name=\"아이템ID\">ITKC_JT</field>\n",
            "\t<field name=\"자료구분\">최종정보</field>\n",
            "\t<field name=\"주제분류\">왕실(王室) 인물(人物) 역사(歷史) 외교-원(元)</field>\n",
            "\t<field name=\"검색필드\">세조 황제(世祖皇帝) 중통(中統) 2년(1261) 신유 6월에 상서성(尙書省)에서 본소(本所)에 행사하는 동인(銅印)을 내려 주었다. 【원전】 1 집 1 면 【분류】 왕실(王室) &amp;#x2F; 인물(人物) &amp;#x2F; 역사(歷史) &amp;#x2F; 외교-원(元)</field>\n",
            "\t<field name=\"자료ID\">ITKC_JT_A0_000_000_000_00050</field>\n",
            "\t<field name=\"역자\">이재호</field>\n",
            "\t<field name=\"사부분류\">사부(史部)-편년류(編年類)</field>\n",
            "\t<field name=\"간행년\">1972</field>\n",
            "</doc>\n",
            "<doc>\n",
            "\t<field name=\"서지ID\">ITKC_JT_A0</field>\n",
            "\t<field name=\"DCI_s\">ITKC_JT_A0_000_000_000_00060_2005_001_XML</field>\n",
            "\t<field name=\"저자\">|</field>\n",
            "\t<field name=\"기사명\">목조가 죽자 공주에서 장사지내고 후에 함흥부로 옮겨 덕릉이라 하다</field>\n",
            "\t<field name=\"간행기간\">1972</field>\n",
            "\t<field name=\"서명\">태조실록(太祖實錄)</field>\n",
            "\t<field name=\"간행처\">세종대왕기념사업회</field>\n",
            "\t<field name=\"아이템ID\">ITKC_JT</field>\n",
            "\t<field name=\"자료구분\">최종정보</field>\n",
            "\t<field name=\"주제분류\">인물(人物) 왕실(王室) 역사(歷史)</field>\n",
            "\t<field name=\"검색필드\">지원(至元) 원년(1264) 갑자 5월에 황제의 선명(宣命)을 받아, 그대로 알동 천호(斡東千戶)에 충원(充員)되었다. 지원(至元) 11년(1274) 갑술 12월에 훙(薨)하니, 공주(孔州) 【곧 경흥부(慶興府)이다.】 성(城) 남쪽</field>\n",
            "\t<field name=\"자료ID\">ITKC_JT_A0_000_000_000_00060</field>\n",
            "\t<field name=\"역자\">이재호</field>\n",
            "\t<field name=\"사부분류\">사부(史部)-편년류(編年類)</field>\n",
            "\t<field name=\"간행년\">1972</field>\n",
            "</doc>\n",
            "<doc>\n",
            "\t<field name=\"서지ID\">ITKC_JT_A0</field>\n",
            "\t<field name=\"DCI_s\">ITKC_JT_A0_000_000_000_00070_2005_001_XML</field>\n",
            "\t<field name=\"저자\">|</field>\n",
            "\t<field name=\"기사명\">익조 이행리가 목조의 관직을 이어받다</field>\n",
            "\t<field name=\"간행기간\">1972</field>\n",
            "\t<field name=\"서명\">태조실록(太祖實錄)</field>\n",
            "\t<field name=\"간행처\">세종대왕기념사업회</field>\n",
            "\t<field name=\"아이템ID\">ITKC_JT</field>\n",
            "\t<field name=\"자료구분\">최종정보</field>\n",
            "\t<field name=\"주제분류\">인물(人物) 왕실(王室) 역사(歷史) 인사(人事)</field>\n",
            "\t<field name=\"검색필드\">목조의 배위(配位)는 효비(孝妃) 이씨(李氏)이니, 같은 이씨(李氏)가 아니다. 천우위 장사(千牛衛長史) 이공숙(李公肅)의 딸이다. 휘(諱) 이행리(李行里)를 낳았으니, 이분이 익조(翼祖)이다. 지원(至元) 12년(1275) 을해 3</field>\n",
            "\t<field name=\"자료ID\">ITKC_JT_A0_000_000_000_00070</field>\n",
            "\t<field name=\"역자\">이재호</field>\n",
            "\t<field name=\"사부분류\">사부(史部)-편년류(編年類)</field>\n",
            "\t<field name=\"간행년\">1972</field>\n",
            "</doc>\n",
            "<doc>\n",
            "\t<field name=\"서지ID\">ITKC_JT_A0</field>\n",
            "\t<field name=\"DCI_s\">ITKC_JT_A0_000_000_000_00080_2005_001_XML</field>\n",
            "\t<field name=\"저자\">|</field>\n",
            "\t<field name=\"기사명\">익조가 원군과 함께 일본 정벌에 참여하고, 충렬왕을 알현하다</field>\n",
            "\t<field name=\"간행기간\">1972</field>\n",
            "\t<field name=\"서명\">태조실록(太祖實錄)</field>\n",
            "\t<field name=\"간행처\">세종대왕기념사업회</field>\n",
            "\t<field name=\"아이템ID\">ITKC_JT</field>\n",
            "\t<field name=\"자료구분\">최종정보</field>\n",
            "\t<field name=\"주제분류\">인물(人物) 왕실(王室) 역사(歷史) 외교-원(元) 외교-왜(倭)</field>\n",
            "\t<field name=\"검색필드\">18년(1281) 신사에 세조(世祖)가 일본(日本)을 정벌하니, 천하의 병선(兵船)이 합포(合浦)에 모였다. 익조(翼祖)가 상사(上司)의 문자(文字)를 받아, 본소(本所)의 인호(人戶)에 군인(軍人)을 기명하여 뽑아서 쌍성총관부(雙城</field>\n",
            "\t<field name=\"자료ID\">ITKC_JT_A0_000_000_000_00080</field>\n",
            "\t<field name=\"역자\">이재호</field>\n",
            "\t<field name=\"사부분류\">사부(史部)-편년류(編年類)</field>\n",
            "\t<field name=\"간행년\">1972</field>\n",
            "</doc>\n",
            "<doc>\n",
            "\t<field name=\"서지ID\">ITKC_JT_A0</field>\n",
            "\t<field name=\"DCI_s\">ITKC_JT_A0_000_000_000_00090_2005_001_XML</field>\n",
            "\t<field name=\"저자\">|</field>\n",
            "\t<field name=\"기사명\">익조가 여진 천호의 협공을 피해 알동의 백성을 거느리고 적도를 거쳐 의주에 정착하다</field>\n",
            "\t<field name=\"간행기간\">1972</field>\n",
            "\t<field name=\"서명\">태조실록(太祖實錄)</field>\n",
            "\t<field name=\"간행처\">세종대왕기념사업회</field>\n",
            "\t<field name=\"아이템ID\">ITKC_JT</field>\n",
            "\t<field name=\"자료구분\">최종정보</field>\n",
            "\t<field name=\"주제분류\">인물(人物) 왕실(王室) 역사(歷史) 외교-야(野)</field>\n",
            "\t<field name=\"검색필드\">처음에 목조가 때때로 현성(峴城)에 가니, 여러 여진(女眞)의 천호(千戶)와 다루가치(達魯花赤)들이 모두 교제(交際)하기를 원하므로, 마침내 그들과 함께 놀았다. 여러 천호(千戶)들이 예절을 갖추어 대접하기를 매우 후하게 하고, 반드</field>\n",
            "\t<field name=\"자료ID\">ITKC_JT_A0_000_000_000_00090</field>\n",
            "\t<field name=\"역자\">이재호</field>\n",
            "\t<field name=\"사부분류\">사부(史部)-편년류(編年類)</field>\n",
            "\t<field name=\"간행년\">1972</field>\n",
            "</doc>\n",
            "<doc>\n",
            "\t<field name=\"서지ID\">ITKC_JT_A0</field>\n",
            "\t<field name=\"DCI_s\">ITKC_JT_A0_000_000_000_00100_2005_001_XML</field>\n",
            "\t<field name=\"저자\">|</field>\n",
            "\t<field name=\"기사명\">익조의 손 부인이 죽자, 등주 호장 최기열의 딸과 재혼하여 등주에 거주하다</field>\n",
            "\t<field name=\"간행기간\">1972</field>\n",
            "\t<field name=\"서명\">태조실록(太祖實錄)</field>\n",
            "\t<field name=\"간행처\">세종대왕기념사업회</field>\n",
            "\t<field name=\"아이템ID\">ITKC_JT</field>\n",
            "\t<field name=\"자료구분\">최종정보</field>\n",
            "\t<field name=\"주제분류\">인물(人物) 왕실(王室) 역사(歷史)</field>\n",
            "\t<field name=\"검색필드\">손 부인(孫夫人)이 두 아들을 낳았으니, 맏아들은 규수(嬀水)이고, 다음 아들은 복(福)이다. 부인이 돌아가자 두 번째로 장가든 배위(配位) 정비(貞妃) 최씨(崔氏)는 등주(登州) 【곧 안변(安邊)이다.】 호장(戶長) 최기열(崔基烈)</field>\n",
            "\t<field name=\"자료ID\">ITKC_JT_A0_000_000_000_00100</field>\n",
            "\t<field name=\"역자\">이재호</field>\n",
            "\t<field name=\"사부분류\">사부(史部)-편년류(編年類)</field>\n",
            "\t<field name=\"간행년\">1972</field>\n",
            "</doc>\n",
            "</result>\n",
            "</response>\n"
          ]
        }
      ]
    },
    {
      "cell_type": "code",
      "source": [
        "root"
      ],
      "metadata": {
        "colab": {
          "base_uri": "https://localhost:8080/"
        },
        "id": "wAlhqLPnL4jG",
        "outputId": "20258537-814b-4e0f-e029-624a0ebe2c59"
      },
      "execution_count": 70,
      "outputs": [
        {
          "output_type": "execute_result",
          "data": {
            "text/plain": [
              "<Element 'response' at 0x7bc20f65c590>"
            ]
          },
          "metadata": {},
          "execution_count": 70
        }
      ]
    },
    {
      "cell_type": "code",
      "source": [],
      "metadata": {
        "id": "3d8UCNKwL9fi"
      },
      "execution_count": null,
      "outputs": []
    }
  ]
}